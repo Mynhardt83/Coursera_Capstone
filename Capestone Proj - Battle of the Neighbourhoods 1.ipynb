{
 "cells": [
  {
   "cell_type": "markdown",
   "metadata": {},
   "source": [
    "# Capstone Project - The Battle of the Neighbourhoods"
   ]
  },
  {
   "cell_type": "markdown",
   "metadata": {},
   "source": [
    "### Applied Data Science Capstone Course -  by IBM/Coursera"
   ]
  },
  {
   "cell_type": "markdown",
   "metadata": {},
   "source": [
    "##### ~~ Business Problem ~~"
   ]
  },
  {
   "cell_type": "markdown",
   "metadata": {},
   "source": [
    "Chinese and **Asian-style food** is booming in the UK thanks to the explosion in the number of pan-Asian restaurants! We want to jump on the bandwagon and open our own restaurant somewhere around London.\n",
    "\n",
    "Since there are lots of restaurants _in and around_ **London**, we want to see which locations will give us the least amount of restaurants in the most dense area and also with the least distance from the London city hub."
   ]
  },
  {
   "cell_type": "markdown",
   "metadata": {},
   "source": [
    "##### ~~ Data ~~"
   ]
  },
  {
   "cell_type": "markdown",
   "metadata": {},
   "source": [
    "Let us look at the type of Data we will require:\n",
    "\n",
    "* Data listing all the restaurants in and around London.\n",
    "    * This will require grid locations using **Foursquare API**.\n",
    "* Data showing all the Asian restaurants in that areas.\n",
    "     * Feasible areas will be clustered and the centers of the areas obtained through **Google Maps API geocoding**.\n",
    "* Distance from area clusters to London.\n",
    "     * This we will obtain by drawing lines from cluster centers to Buckingham Palace using **Google Maps API reverse geocoding**."
   ]
  },
  {
   "cell_type": "code",
   "execution_count": null,
   "metadata": {},
   "outputs": [],
   "source": []
  }
 ],
 "metadata": {
  "kernelspec": {
   "display_name": "Python 3",
   "language": "python",
   "name": "python3"
  },
  "language_info": {
   "codemirror_mode": {
    "name": "ipython",
    "version": 3
   },
   "file_extension": ".py",
   "mimetype": "text/x-python",
   "name": "python",
   "nbconvert_exporter": "python",
   "pygments_lexer": "ipython3",
   "version": "3.7.1"
  }
 },
 "nbformat": 4,
 "nbformat_minor": 2
}
